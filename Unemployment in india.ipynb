{
 "cells": [
  {
   "cell_type": "markdown",
   "id": "f9d33589",
   "metadata": {},
   "source": [
    "## TASK 1"
   ]
  },
  {
   "cell_type": "markdown",
   "id": "f95b5e6f",
   "metadata": {},
   "source": [
    "## UNEMPLOYMENT IN INDIA"
   ]
  },
  {
   "cell_type": "markdown",
   "id": "d6fd1333",
   "metadata": {},
   "source": [
    "Unemployment is measured by the unemployment rate which is the\n",
    "number of people who are unemployed as a percentage of the total labour\n",
    "force."
   ]
  },
  {
   "cell_type": "markdown",
   "id": "c027e327",
   "metadata": {},
   "source": [
    "We have seen a sharp increase in the unemployment rate during Covid-19,so analyzing the unemployment rate can be a good data science project."
   ]
  },
  {
   "cell_type": "markdown",
   "id": "8346c661",
   "metadata": {},
   "source": [
    "## Importing Libraries"
   ]
  },
  {
   "cell_type": "code",
   "execution_count": 1,
   "id": "e79c148e",
   "metadata": {},
   "outputs": [],
   "source": [
    "import numpy as np\n",
    "import pandas as pd\n",
    "import matplotlib.pyplot as plt\n",
    "import seaborn as sns"
   ]
  },
  {
   "cell_type": "markdown",
   "id": "e816c6a0",
   "metadata": {},
   "source": [
    "## Loading the dataset"
   ]
  },
  {
   "cell_type": "code",
   "execution_count": 2,
   "id": "00ee44db",
   "metadata": {},
   "outputs": [],
   "source": [
    "unemployment = pd.read_csv(r\"C:\\Users\\$hadow\\Downloads\\archive\\Unemployment in India.csv\")\n",
    "unemployment_rate = pd.read_csv(r\"C:\\Users\\$hadow\\Downloads\\archive\\Unemployment_Rate_upto_11_2020.csv\")"
   ]
  },
  {
   "cell_type": "markdown",
   "id": "dfb0f112",
   "metadata": {},
   "source": [
    "## Shape of the dataset"
   ]
  },
  {
   "cell_type": "code",
   "execution_count": 3,
   "id": "e08c7021",
   "metadata": {},
   "outputs": [
    {
     "data": {
      "text/plain": [
       "(768, 7)"
      ]
     },
     "execution_count": 3,
     "metadata": {},
     "output_type": "execute_result"
    }
   ],
   "source": [
    "unemployment.shape"
   ]
  },
  {
   "cell_type": "code",
   "execution_count": 4,
   "id": "5004ef72",
   "metadata": {},
   "outputs": [
    {
     "data": {
      "text/plain": [
       "(267, 9)"
      ]
     },
     "execution_count": 4,
     "metadata": {},
     "output_type": "execute_result"
    }
   ],
   "source": [
    "unemployment_rate.shape"
   ]
  },
  {
   "cell_type": "markdown",
   "id": "68b1cf57",
   "metadata": {},
   "source": [
    "## Dataset"
   ]
  },
  {
   "cell_type": "code",
   "execution_count": 5,
   "id": "64f201f0",
   "metadata": {},
   "outputs": [
    {
     "data": {
      "text/html": [
       "<div>\n",
       "<style scoped>\n",
       "    .dataframe tbody tr th:only-of-type {\n",
       "        vertical-align: middle;\n",
       "    }\n",
       "\n",
       "    .dataframe tbody tr th {\n",
       "        vertical-align: top;\n",
       "    }\n",
       "\n",
       "    .dataframe thead th {\n",
       "        text-align: right;\n",
       "    }\n",
       "</style>\n",
       "<table border=\"1\" class=\"dataframe\">\n",
       "  <thead>\n",
       "    <tr style=\"text-align: right;\">\n",
       "      <th></th>\n",
       "      <th>Region</th>\n",
       "      <th>Date</th>\n",
       "      <th>Frequency</th>\n",
       "      <th>Estimated Unemployment Rate (%)</th>\n",
       "      <th>Estimated Employed</th>\n",
       "      <th>Estimated Labour Participation Rate (%)</th>\n",
       "      <th>Area</th>\n",
       "    </tr>\n",
       "  </thead>\n",
       "  <tbody>\n",
       "    <tr>\n",
       "      <th>0</th>\n",
       "      <td>Andhra Pradesh</td>\n",
       "      <td>31-05-2019</td>\n",
       "      <td>Monthly</td>\n",
       "      <td>3.65</td>\n",
       "      <td>11999139.0</td>\n",
       "      <td>43.24</td>\n",
       "      <td>Rural</td>\n",
       "    </tr>\n",
       "    <tr>\n",
       "      <th>1</th>\n",
       "      <td>Andhra Pradesh</td>\n",
       "      <td>30-06-2019</td>\n",
       "      <td>Monthly</td>\n",
       "      <td>3.05</td>\n",
       "      <td>11755881.0</td>\n",
       "      <td>42.05</td>\n",
       "      <td>Rural</td>\n",
       "    </tr>\n",
       "    <tr>\n",
       "      <th>2</th>\n",
       "      <td>Andhra Pradesh</td>\n",
       "      <td>31-07-2019</td>\n",
       "      <td>Monthly</td>\n",
       "      <td>3.75</td>\n",
       "      <td>12086707.0</td>\n",
       "      <td>43.50</td>\n",
       "      <td>Rural</td>\n",
       "    </tr>\n",
       "    <tr>\n",
       "      <th>3</th>\n",
       "      <td>Andhra Pradesh</td>\n",
       "      <td>31-08-2019</td>\n",
       "      <td>Monthly</td>\n",
       "      <td>3.32</td>\n",
       "      <td>12285693.0</td>\n",
       "      <td>43.97</td>\n",
       "      <td>Rural</td>\n",
       "    </tr>\n",
       "    <tr>\n",
       "      <th>4</th>\n",
       "      <td>Andhra Pradesh</td>\n",
       "      <td>30-09-2019</td>\n",
       "      <td>Monthly</td>\n",
       "      <td>5.17</td>\n",
       "      <td>12256762.0</td>\n",
       "      <td>44.68</td>\n",
       "      <td>Rural</td>\n",
       "    </tr>\n",
       "  </tbody>\n",
       "</table>\n",
       "</div>"
      ],
      "text/plain": [
       "           Region         Date  Frequency   Estimated Unemployment Rate (%)  \\\n",
       "0  Andhra Pradesh   31-05-2019    Monthly                              3.65   \n",
       "1  Andhra Pradesh   30-06-2019    Monthly                              3.05   \n",
       "2  Andhra Pradesh   31-07-2019    Monthly                              3.75   \n",
       "3  Andhra Pradesh   31-08-2019    Monthly                              3.32   \n",
       "4  Andhra Pradesh   30-09-2019    Monthly                              5.17   \n",
       "\n",
       "    Estimated Employed   Estimated Labour Participation Rate (%)   Area  \n",
       "0           11999139.0                                     43.24  Rural  \n",
       "1           11755881.0                                     42.05  Rural  \n",
       "2           12086707.0                                     43.50  Rural  \n",
       "3           12285693.0                                     43.97  Rural  \n",
       "4           12256762.0                                     44.68  Rural  "
      ]
     },
     "execution_count": 5,
     "metadata": {},
     "output_type": "execute_result"
    }
   ],
   "source": [
    "unemployment.head()"
   ]
  },
  {
   "cell_type": "code",
   "execution_count": 6,
   "id": "c4332ed6",
   "metadata": {},
   "outputs": [
    {
     "data": {
      "text/html": [
       "<div>\n",
       "<style scoped>\n",
       "    .dataframe tbody tr th:only-of-type {\n",
       "        vertical-align: middle;\n",
       "    }\n",
       "\n",
       "    .dataframe tbody tr th {\n",
       "        vertical-align: top;\n",
       "    }\n",
       "\n",
       "    .dataframe thead th {\n",
       "        text-align: right;\n",
       "    }\n",
       "</style>\n",
       "<table border=\"1\" class=\"dataframe\">\n",
       "  <thead>\n",
       "    <tr style=\"text-align: right;\">\n",
       "      <th></th>\n",
       "      <th>Region</th>\n",
       "      <th>Date</th>\n",
       "      <th>Frequency</th>\n",
       "      <th>Estimated Unemployment Rate (%)</th>\n",
       "      <th>Estimated Employed</th>\n",
       "      <th>Estimated Labour Participation Rate (%)</th>\n",
       "      <th>Region.1</th>\n",
       "      <th>longitude</th>\n",
       "      <th>latitude</th>\n",
       "    </tr>\n",
       "  </thead>\n",
       "  <tbody>\n",
       "    <tr>\n",
       "      <th>0</th>\n",
       "      <td>Andhra Pradesh</td>\n",
       "      <td>31-01-2020</td>\n",
       "      <td>M</td>\n",
       "      <td>5.48</td>\n",
       "      <td>16635535</td>\n",
       "      <td>41.02</td>\n",
       "      <td>South</td>\n",
       "      <td>15.9129</td>\n",
       "      <td>79.74</td>\n",
       "    </tr>\n",
       "    <tr>\n",
       "      <th>1</th>\n",
       "      <td>Andhra Pradesh</td>\n",
       "      <td>29-02-2020</td>\n",
       "      <td>M</td>\n",
       "      <td>5.83</td>\n",
       "      <td>16545652</td>\n",
       "      <td>40.90</td>\n",
       "      <td>South</td>\n",
       "      <td>15.9129</td>\n",
       "      <td>79.74</td>\n",
       "    </tr>\n",
       "    <tr>\n",
       "      <th>2</th>\n",
       "      <td>Andhra Pradesh</td>\n",
       "      <td>31-03-2020</td>\n",
       "      <td>M</td>\n",
       "      <td>5.79</td>\n",
       "      <td>15881197</td>\n",
       "      <td>39.18</td>\n",
       "      <td>South</td>\n",
       "      <td>15.9129</td>\n",
       "      <td>79.74</td>\n",
       "    </tr>\n",
       "    <tr>\n",
       "      <th>3</th>\n",
       "      <td>Andhra Pradesh</td>\n",
       "      <td>30-04-2020</td>\n",
       "      <td>M</td>\n",
       "      <td>20.51</td>\n",
       "      <td>11336911</td>\n",
       "      <td>33.10</td>\n",
       "      <td>South</td>\n",
       "      <td>15.9129</td>\n",
       "      <td>79.74</td>\n",
       "    </tr>\n",
       "    <tr>\n",
       "      <th>4</th>\n",
       "      <td>Andhra Pradesh</td>\n",
       "      <td>31-05-2020</td>\n",
       "      <td>M</td>\n",
       "      <td>17.43</td>\n",
       "      <td>12988845</td>\n",
       "      <td>36.46</td>\n",
       "      <td>South</td>\n",
       "      <td>15.9129</td>\n",
       "      <td>79.74</td>\n",
       "    </tr>\n",
       "  </tbody>\n",
       "</table>\n",
       "</div>"
      ],
      "text/plain": [
       "           Region         Date  Frequency   Estimated Unemployment Rate (%)  \\\n",
       "0  Andhra Pradesh   31-01-2020          M                              5.48   \n",
       "1  Andhra Pradesh   29-02-2020          M                              5.83   \n",
       "2  Andhra Pradesh   31-03-2020          M                              5.79   \n",
       "3  Andhra Pradesh   30-04-2020          M                             20.51   \n",
       "4  Andhra Pradesh   31-05-2020          M                             17.43   \n",
       "\n",
       "    Estimated Employed   Estimated Labour Participation Rate (%) Region.1  \\\n",
       "0             16635535                                     41.02    South   \n",
       "1             16545652                                     40.90    South   \n",
       "2             15881197                                     39.18    South   \n",
       "3             11336911                                     33.10    South   \n",
       "4             12988845                                     36.46    South   \n",
       "\n",
       "   longitude  latitude  \n",
       "0    15.9129     79.74  \n",
       "1    15.9129     79.74  \n",
       "2    15.9129     79.74  \n",
       "3    15.9129     79.74  \n",
       "4    15.9129     79.74  "
      ]
     },
     "execution_count": 6,
     "metadata": {},
     "output_type": "execute_result"
    }
   ],
   "source": [
    "unemployment_rate.head()"
   ]
  },
  {
   "cell_type": "markdown",
   "id": "7f3de4d6",
   "metadata": {},
   "source": [
    "## Dataset info"
   ]
  },
  {
   "cell_type": "code",
   "execution_count": 7,
   "id": "9941205d",
   "metadata": {},
   "outputs": [
    {
     "name": "stdout",
     "output_type": "stream",
     "text": [
      "<class 'pandas.core.frame.DataFrame'>\n",
      "RangeIndex: 768 entries, 0 to 767\n",
      "Data columns (total 7 columns):\n",
      " #   Column                                    Non-Null Count  Dtype  \n",
      "---  ------                                    --------------  -----  \n",
      " 0   Region                                    740 non-null    object \n",
      " 1    Date                                     740 non-null    object \n",
      " 2    Frequency                                740 non-null    object \n",
      " 3    Estimated Unemployment Rate (%)          740 non-null    float64\n",
      " 4    Estimated Employed                       740 non-null    float64\n",
      " 5    Estimated Labour Participation Rate (%)  740 non-null    float64\n",
      " 6   Area                                      740 non-null    object \n",
      "dtypes: float64(3), object(4)\n",
      "memory usage: 42.1+ KB\n"
     ]
    }
   ],
   "source": [
    "unemployment.info()"
   ]
  },
  {
   "cell_type": "code",
   "execution_count": 8,
   "id": "f4dcc124",
   "metadata": {},
   "outputs": [
    {
     "name": "stdout",
     "output_type": "stream",
     "text": [
      "<class 'pandas.core.frame.DataFrame'>\n",
      "RangeIndex: 267 entries, 0 to 266\n",
      "Data columns (total 9 columns):\n",
      " #   Column                                    Non-Null Count  Dtype  \n",
      "---  ------                                    --------------  -----  \n",
      " 0   Region                                    267 non-null    object \n",
      " 1    Date                                     267 non-null    object \n",
      " 2    Frequency                                267 non-null    object \n",
      " 3    Estimated Unemployment Rate (%)          267 non-null    float64\n",
      " 4    Estimated Employed                       267 non-null    int64  \n",
      " 5    Estimated Labour Participation Rate (%)  267 non-null    float64\n",
      " 6   Region.1                                  267 non-null    object \n",
      " 7   longitude                                 267 non-null    float64\n",
      " 8   latitude                                  267 non-null    float64\n",
      "dtypes: float64(4), int64(1), object(4)\n",
      "memory usage: 18.9+ KB\n"
     ]
    }
   ],
   "source": [
    "unemployment_rate.info()"
   ]
  },
  {
   "cell_type": "markdown",
   "id": "74307134",
   "metadata": {},
   "source": [
    "## Cleaning column names"
   ]
  },
  {
   "cell_type": "code",
   "execution_count": 9,
   "id": "759f3fe0",
   "metadata": {},
   "outputs": [],
   "source": [
    "unemployment.columns=unemployment.columns.str.strip().str.lower()\n",
    "unemployment_rate.columns=unemployment_rate.columns.str.strip().str.lower()"
   ]
  },
  {
   "cell_type": "code",
   "execution_count": 10,
   "id": "68d5bd51",
   "metadata": {},
   "outputs": [
    {
     "data": {
      "text/plain": [
       "Index(['region', 'date', 'frequency', 'estimated unemployment rate (%)',\n",
       "       'estimated employed', 'estimated labour participation rate (%)',\n",
       "       'area'],\n",
       "      dtype='object')"
      ]
     },
     "execution_count": 10,
     "metadata": {},
     "output_type": "execute_result"
    }
   ],
   "source": [
    "unemployment.columns"
   ]
  },
  {
   "cell_type": "code",
   "execution_count": 11,
   "id": "d6a67d91",
   "metadata": {},
   "outputs": [
    {
     "data": {
      "text/plain": [
       "Index(['region', 'date', 'frequency', 'estimated unemployment rate (%)',\n",
       "       'estimated employed', 'estimated labour participation rate (%)',\n",
       "       'region.1', 'longitude', 'latitude'],\n",
       "      dtype='object')"
      ]
     },
     "execution_count": 11,
     "metadata": {},
     "output_type": "execute_result"
    }
   ],
   "source": [
    "unemployment_rate.columns"
   ]
  },
  {
   "cell_type": "markdown",
   "id": "ea527324",
   "metadata": {},
   "source": [
    "## Checking null values and dropping duplicates"
   ]
  },
  {
   "cell_type": "code",
   "execution_count": 12,
   "id": "a54db1a0",
   "metadata": {},
   "outputs": [
    {
     "data": {
      "text/plain": [
       "0"
      ]
     },
     "execution_count": 12,
     "metadata": {},
     "output_type": "execute_result"
    }
   ],
   "source": [
    "unemployment = unemployment.drop_duplicates()\n",
    "unemployment.duplicated().sum()"
   ]
  },
  {
   "cell_type": "code",
   "execution_count": 13,
   "id": "05703c07",
   "metadata": {},
   "outputs": [
    {
     "data": {
      "text/plain": [
       "(740, 7)"
      ]
     },
     "execution_count": 13,
     "metadata": {},
     "output_type": "execute_result"
    }
   ],
   "source": [
    "unemployment = unemployment.copy()\n",
    "unemployment.dropna(inplace=True)\n",
    "unemployment.shape"
   ]
  },
  {
   "cell_type": "code",
   "execution_count": 14,
   "id": "ea15f133",
   "metadata": {},
   "outputs": [
    {
     "data": {
      "text/plain": [
       "0"
      ]
     },
     "execution_count": 14,
     "metadata": {},
     "output_type": "execute_result"
    }
   ],
   "source": [
    "unemployment_rate = unemployment_rate.drop_duplicates()\n",
    "unemployment_rate.duplicated().sum()"
   ]
  },
  {
   "cell_type": "code",
   "execution_count": 15,
   "id": "2fb0a420",
   "metadata": {},
   "outputs": [
    {
     "data": {
      "text/plain": [
       "(267, 9)"
      ]
     },
     "execution_count": 15,
     "metadata": {},
     "output_type": "execute_result"
    }
   ],
   "source": [
    "unemployment_rate = unemployment_rate.copy()\n",
    "unemployment_rate.dropna(inplace=True)\n",
    "unemployment_rate.shape"
   ]
  },
  {
   "cell_type": "markdown",
   "id": "64c3a40a",
   "metadata": {},
   "source": [
    "## Converting date column datatype"
   ]
  },
  {
   "cell_type": "code",
   "execution_count": 16,
   "id": "fc423752",
   "metadata": {},
   "outputs": [],
   "source": [
    "unemployment[\"date\"] = pd.to_datetime(unemployment[\"date\"],dayfirst=True)\n",
    "unemployment_rate[\"date\"] = pd.to_datetime(unemployment_rate[\"date\"],dayfirst=True)"
   ]
  },
  {
   "cell_type": "code",
   "execution_count": 17,
   "id": "e4ce63dc",
   "metadata": {},
   "outputs": [
    {
     "name": "stdout",
     "output_type": "stream",
     "text": [
      "<class 'pandas.core.frame.DataFrame'>\n",
      "Index: 740 entries, 0 to 753\n",
      "Data columns (total 7 columns):\n",
      " #   Column                                   Non-Null Count  Dtype         \n",
      "---  ------                                   --------------  -----         \n",
      " 0   region                                   740 non-null    object        \n",
      " 1   date                                     740 non-null    datetime64[ns]\n",
      " 2   frequency                                740 non-null    object        \n",
      " 3   estimated unemployment rate (%)          740 non-null    float64       \n",
      " 4   estimated employed                       740 non-null    float64       \n",
      " 5   estimated labour participation rate (%)  740 non-null    float64       \n",
      " 6   area                                     740 non-null    object        \n",
      "dtypes: datetime64[ns](1), float64(3), object(3)\n",
      "memory usage: 46.2+ KB\n"
     ]
    }
   ],
   "source": [
    "unemployment.info()"
   ]
  },
  {
   "cell_type": "code",
   "execution_count": 18,
   "id": "1dced7e9",
   "metadata": {},
   "outputs": [
    {
     "name": "stdout",
     "output_type": "stream",
     "text": [
      "<class 'pandas.core.frame.DataFrame'>\n",
      "RangeIndex: 267 entries, 0 to 266\n",
      "Data columns (total 9 columns):\n",
      " #   Column                                   Non-Null Count  Dtype         \n",
      "---  ------                                   --------------  -----         \n",
      " 0   region                                   267 non-null    object        \n",
      " 1   date                                     267 non-null    datetime64[ns]\n",
      " 2   frequency                                267 non-null    object        \n",
      " 3   estimated unemployment rate (%)          267 non-null    float64       \n",
      " 4   estimated employed                       267 non-null    int64         \n",
      " 5   estimated labour participation rate (%)  267 non-null    float64       \n",
      " 6   region.1                                 267 non-null    object        \n",
      " 7   longitude                                267 non-null    float64       \n",
      " 8   latitude                                 267 non-null    float64       \n",
      "dtypes: datetime64[ns](1), float64(4), int64(1), object(3)\n",
      "memory usage: 18.9+ KB\n"
     ]
    }
   ],
   "source": [
    "unemployment_rate.info()"
   ]
  },
  {
   "cell_type": "code",
   "execution_count": 19,
   "id": "636c66c5",
   "metadata": {},
   "outputs": [
    {
     "data": {
      "text/html": [
       "<div>\n",
       "<style scoped>\n",
       "    .dataframe tbody tr th:only-of-type {\n",
       "        vertical-align: middle;\n",
       "    }\n",
       "\n",
       "    .dataframe tbody tr th {\n",
       "        vertical-align: top;\n",
       "    }\n",
       "\n",
       "    .dataframe thead th {\n",
       "        text-align: right;\n",
       "    }\n",
       "</style>\n",
       "<table border=\"1\" class=\"dataframe\">\n",
       "  <thead>\n",
       "    <tr style=\"text-align: right;\">\n",
       "      <th></th>\n",
       "      <th>region</th>\n",
       "      <th>date</th>\n",
       "      <th>frequency</th>\n",
       "      <th>estimated unemployment rate (%)</th>\n",
       "      <th>estimated employed</th>\n",
       "      <th>estimated labour participation rate (%)</th>\n",
       "      <th>area</th>\n",
       "    </tr>\n",
       "  </thead>\n",
       "  <tbody>\n",
       "    <tr>\n",
       "      <th>0</th>\n",
       "      <td>Andhra Pradesh</td>\n",
       "      <td>2019-05-31</td>\n",
       "      <td>M</td>\n",
       "      <td>3.65</td>\n",
       "      <td>11999139.0</td>\n",
       "      <td>43.24</td>\n",
       "      <td>Rural</td>\n",
       "    </tr>\n",
       "    <tr>\n",
       "      <th>1</th>\n",
       "      <td>Andhra Pradesh</td>\n",
       "      <td>2019-06-30</td>\n",
       "      <td>M</td>\n",
       "      <td>3.05</td>\n",
       "      <td>11755881.0</td>\n",
       "      <td>42.05</td>\n",
       "      <td>Rural</td>\n",
       "    </tr>\n",
       "    <tr>\n",
       "      <th>2</th>\n",
       "      <td>Andhra Pradesh</td>\n",
       "      <td>2019-07-31</td>\n",
       "      <td>M</td>\n",
       "      <td>3.75</td>\n",
       "      <td>12086707.0</td>\n",
       "      <td>43.50</td>\n",
       "      <td>Rural</td>\n",
       "    </tr>\n",
       "    <tr>\n",
       "      <th>3</th>\n",
       "      <td>Andhra Pradesh</td>\n",
       "      <td>2019-08-31</td>\n",
       "      <td>M</td>\n",
       "      <td>3.32</td>\n",
       "      <td>12285693.0</td>\n",
       "      <td>43.97</td>\n",
       "      <td>Rural</td>\n",
       "    </tr>\n",
       "    <tr>\n",
       "      <th>4</th>\n",
       "      <td>Andhra Pradesh</td>\n",
       "      <td>2019-09-30</td>\n",
       "      <td>M</td>\n",
       "      <td>5.17</td>\n",
       "      <td>12256762.0</td>\n",
       "      <td>44.68</td>\n",
       "      <td>Rural</td>\n",
       "    </tr>\n",
       "  </tbody>\n",
       "</table>\n",
       "</div>"
      ],
      "text/plain": [
       "           region       date frequency  estimated unemployment rate (%)  \\\n",
       "0  Andhra Pradesh 2019-05-31         M                             3.65   \n",
       "1  Andhra Pradesh 2019-06-30         M                             3.05   \n",
       "2  Andhra Pradesh 2019-07-31         M                             3.75   \n",
       "3  Andhra Pradesh 2019-08-31         M                             3.32   \n",
       "4  Andhra Pradesh 2019-09-30         M                             5.17   \n",
       "\n",
       "   estimated employed  estimated labour participation rate (%)   area  \n",
       "0          11999139.0                                    43.24  Rural  \n",
       "1          11755881.0                                    42.05  Rural  \n",
       "2          12086707.0                                    43.50  Rural  \n",
       "3          12285693.0                                    43.97  Rural  \n",
       "4          12256762.0                                    44.68  Rural  "
      ]
     },
     "execution_count": 19,
     "metadata": {},
     "output_type": "execute_result"
    }
   ],
   "source": [
    "unemployment[\"frequency\"] = unemployment[\"frequency\"].str.replace(\"Monthly\",\"M\")\n",
    "unemployment.head()"
   ]
  },
  {
   "cell_type": "markdown",
   "id": "06c89772",
   "metadata": {},
   "source": [
    "## Combining two datasets"
   ]
  },
  {
   "cell_type": "code",
   "execution_count": 20,
   "id": "83812b55",
   "metadata": {},
   "outputs": [],
   "source": [
    "df = pd.concat([unemployment,unemployment_rate],ignore_index = True)"
   ]
  },
  {
   "cell_type": "code",
   "execution_count": 21,
   "id": "45b52c11",
   "metadata": {},
   "outputs": [
    {
     "data": {
      "text/html": [
       "<div>\n",
       "<style scoped>\n",
       "    .dataframe tbody tr th:only-of-type {\n",
       "        vertical-align: middle;\n",
       "    }\n",
       "\n",
       "    .dataframe tbody tr th {\n",
       "        vertical-align: top;\n",
       "    }\n",
       "\n",
       "    .dataframe thead th {\n",
       "        text-align: right;\n",
       "    }\n",
       "</style>\n",
       "<table border=\"1\" class=\"dataframe\">\n",
       "  <thead>\n",
       "    <tr style=\"text-align: right;\">\n",
       "      <th></th>\n",
       "      <th>region</th>\n",
       "      <th>date</th>\n",
       "      <th>frequency</th>\n",
       "      <th>estimated unemployment rate (%)</th>\n",
       "      <th>estimated employed</th>\n",
       "      <th>estimated labour participation rate (%)</th>\n",
       "      <th>area</th>\n",
       "      <th>region.1</th>\n",
       "      <th>longitude</th>\n",
       "      <th>latitude</th>\n",
       "    </tr>\n",
       "  </thead>\n",
       "  <tbody>\n",
       "    <tr>\n",
       "      <th>0</th>\n",
       "      <td>Andhra Pradesh</td>\n",
       "      <td>2019-05-31</td>\n",
       "      <td>M</td>\n",
       "      <td>3.65</td>\n",
       "      <td>11999139.0</td>\n",
       "      <td>43.24</td>\n",
       "      <td>Rural</td>\n",
       "      <td>NaN</td>\n",
       "      <td>NaN</td>\n",
       "      <td>NaN</td>\n",
       "    </tr>\n",
       "    <tr>\n",
       "      <th>1</th>\n",
       "      <td>Andhra Pradesh</td>\n",
       "      <td>2019-06-30</td>\n",
       "      <td>M</td>\n",
       "      <td>3.05</td>\n",
       "      <td>11755881.0</td>\n",
       "      <td>42.05</td>\n",
       "      <td>Rural</td>\n",
       "      <td>NaN</td>\n",
       "      <td>NaN</td>\n",
       "      <td>NaN</td>\n",
       "    </tr>\n",
       "    <tr>\n",
       "      <th>2</th>\n",
       "      <td>Andhra Pradesh</td>\n",
       "      <td>2019-07-31</td>\n",
       "      <td>M</td>\n",
       "      <td>3.75</td>\n",
       "      <td>12086707.0</td>\n",
       "      <td>43.50</td>\n",
       "      <td>Rural</td>\n",
       "      <td>NaN</td>\n",
       "      <td>NaN</td>\n",
       "      <td>NaN</td>\n",
       "    </tr>\n",
       "    <tr>\n",
       "      <th>3</th>\n",
       "      <td>Andhra Pradesh</td>\n",
       "      <td>2019-08-31</td>\n",
       "      <td>M</td>\n",
       "      <td>3.32</td>\n",
       "      <td>12285693.0</td>\n",
       "      <td>43.97</td>\n",
       "      <td>Rural</td>\n",
       "      <td>NaN</td>\n",
       "      <td>NaN</td>\n",
       "      <td>NaN</td>\n",
       "    </tr>\n",
       "    <tr>\n",
       "      <th>4</th>\n",
       "      <td>Andhra Pradesh</td>\n",
       "      <td>2019-09-30</td>\n",
       "      <td>M</td>\n",
       "      <td>5.17</td>\n",
       "      <td>12256762.0</td>\n",
       "      <td>44.68</td>\n",
       "      <td>Rural</td>\n",
       "      <td>NaN</td>\n",
       "      <td>NaN</td>\n",
       "      <td>NaN</td>\n",
       "    </tr>\n",
       "  </tbody>\n",
       "</table>\n",
       "</div>"
      ],
      "text/plain": [
       "           region       date frequency  estimated unemployment rate (%)  \\\n",
       "0  Andhra Pradesh 2019-05-31         M                             3.65   \n",
       "1  Andhra Pradesh 2019-06-30         M                             3.05   \n",
       "2  Andhra Pradesh 2019-07-31         M                             3.75   \n",
       "3  Andhra Pradesh 2019-08-31         M                             3.32   \n",
       "4  Andhra Pradesh 2019-09-30         M                             5.17   \n",
       "\n",
       "   estimated employed  estimated labour participation rate (%)   area  \\\n",
       "0          11999139.0                                    43.24  Rural   \n",
       "1          11755881.0                                    42.05  Rural   \n",
       "2          12086707.0                                    43.50  Rural   \n",
       "3          12285693.0                                    43.97  Rural   \n",
       "4          12256762.0                                    44.68  Rural   \n",
       "\n",
       "  region.1  longitude  latitude  \n",
       "0      NaN        NaN       NaN  \n",
       "1      NaN        NaN       NaN  \n",
       "2      NaN        NaN       NaN  \n",
       "3      NaN        NaN       NaN  \n",
       "4      NaN        NaN       NaN  "
      ]
     },
     "execution_count": 21,
     "metadata": {},
     "output_type": "execute_result"
    }
   ],
   "source": [
    "df.head()"
   ]
  },
  {
   "cell_type": "code",
   "execution_count": 22,
   "id": "0cf3d39d",
   "metadata": {},
   "outputs": [],
   "source": [
    "df[\"frequency\"] = df[\"frequency\"].str.replace(\" M\",\"M\")"
   ]
  },
  {
   "cell_type": "code",
   "execution_count": 23,
   "id": "bd4e1707",
   "metadata": {},
   "outputs": [
    {
     "data": {
      "text/plain": [
       "frequency\n",
       "M    1007\n",
       "Name: count, dtype: int64"
      ]
     },
     "execution_count": 23,
     "metadata": {},
     "output_type": "execute_result"
    }
   ],
   "source": [
    "df[\"frequency\"].value_counts()"
   ]
  },
  {
   "cell_type": "markdown",
   "id": "52f6a203",
   "metadata": {},
   "source": [
    "## Creating new column"
   ]
  },
  {
   "cell_type": "code",
   "execution_count": 24,
   "id": "b225b0cd",
   "metadata": {},
   "outputs": [
    {
     "data": {
      "text/plain": [
       "0        8.441258\n",
       "1        7.253270\n",
       "2        8.620690\n",
       "3        7.550603\n",
       "4       11.571173\n",
       "          ...    \n",
       "1002    18.049022\n",
       "1003    14.793156\n",
       "1004    31.318450\n",
       "1005    19.589357\n",
       "1006    21.871576\n",
       "Name: unemployment, Length: 1007, dtype: float64"
      ]
     },
     "execution_count": 24,
     "metadata": {},
     "output_type": "execute_result"
    }
   ],
   "source": [
    "df[\"unemployment\"] = (df[\"estimated unemployment rate (%)\"]/df[\"estimated labour participation rate (%)\"])*100\n",
    "df[\"unemployment\"]"
   ]
  },
  {
   "cell_type": "code",
   "execution_count": 25,
   "id": "5befa1a9",
   "metadata": {},
   "outputs": [
    {
     "data": {
      "text/plain": [
       "(1007, 11)"
      ]
     },
     "execution_count": 25,
     "metadata": {},
     "output_type": "execute_result"
    }
   ],
   "source": [
    "df.shape"
   ]
  },
  {
   "cell_type": "code",
   "execution_count": 26,
   "id": "54beb4d6",
   "metadata": {},
   "outputs": [
    {
     "data": {
      "text/plain": [
       "0"
      ]
     },
     "execution_count": 26,
     "metadata": {},
     "output_type": "execute_result"
    }
   ],
   "source": [
    "df.duplicated().sum()"
   ]
  },
  {
   "cell_type": "markdown",
   "id": "2807d472",
   "metadata": {},
   "source": [
    "## Discrete univariate analysis"
   ]
  },
  {
   "cell_type": "code",
   "execution_count": 27,
   "id": "6679c508",
   "metadata": {},
   "outputs": [],
   "source": [
    "def discrete_univariate_analysis(discrete_data):\n",
    "    for col_name in discrete_data:\n",
    "        print(\"*\"*10, col_name, \"*\"*10)\n",
    "        print(discrete_data[col_name].agg([\"count\",\"nunique\",\"unique\"]))\n",
    "        print(\"Value Counts: \\n\", discrete_data[col_name].value_counts())\n",
    "        print()"
   ]
  },
  {
   "cell_type": "code",
   "execution_count": 28,
   "id": "081d4cdf",
   "metadata": {},
   "outputs": [
    {
     "name": "stdout",
     "output_type": "stream",
     "text": [
      "********** region **********\n",
      "count                                                   1007\n",
      "nunique                                                   28\n",
      "unique     [Andhra Pradesh, Assam, Bihar, Chhattisgarh, D...\n",
      "Name: region, dtype: object\n",
      "Value Counts: \n",
      " region\n",
      "Andhra Pradesh      38\n",
      "Kerala              38\n",
      "West Bengal         38\n",
      "Uttar Pradesh       38\n",
      "Tripura             38\n",
      "Telangana           38\n",
      "Tamil Nadu          38\n",
      "Rajasthan           38\n",
      "Punjab              38\n",
      "Odisha              38\n",
      "Madhya Pradesh      38\n",
      "Maharashtra         38\n",
      "Karnataka           38\n",
      "Jharkhand           38\n",
      "Himachal Pradesh    38\n",
      "Haryana             38\n",
      "Gujarat             38\n",
      "Delhi               38\n",
      "Chhattisgarh        38\n",
      "Bihar               38\n",
      "Meghalaya           37\n",
      "Uttarakhand         37\n",
      "Assam               36\n",
      "Puducherry          36\n",
      "Goa                 34\n",
      "Jammu & Kashmir     30\n",
      "Sikkim              25\n",
      "Chandigarh          12\n",
      "Name: count, dtype: int64\n",
      "\n",
      "********** frequency **********\n",
      "count      1007\n",
      "nunique       1\n",
      "unique      [M]\n",
      "Name: frequency, dtype: object\n",
      "Value Counts: \n",
      " frequency\n",
      "M    1007\n",
      "Name: count, dtype: int64\n",
      "\n",
      "********** area **********\n",
      "count                      740\n",
      "nunique                      2\n",
      "unique     [Rural, Urban, nan]\n",
      "Name: area, dtype: object\n",
      "Value Counts: \n",
      " area\n",
      "Urban    381\n",
      "Rural    359\n",
      "Name: count, dtype: int64\n",
      "\n",
      "********** region.1 **********\n",
      "count                                             267\n",
      "nunique                                             5\n",
      "unique     [nan, South, Northeast, East, West, North]\n",
      "Name: region.1, dtype: object\n",
      "Value Counts: \n",
      " region.1\n",
      "North        79\n",
      "South        60\n",
      "West         50\n",
      "East         40\n",
      "Northeast    38\n",
      "Name: count, dtype: int64\n",
      "\n"
     ]
    }
   ],
   "source": [
    "discrete_df = df.select_dtypes(include=[\"object\"])\n",
    "discrete_univariate_analysis(discrete_df)"
   ]
  },
  {
   "cell_type": "markdown",
   "id": "d72b25fd",
   "metadata": {},
   "source": [
    "## Numerical univariate analysis"
   ]
  },
  {
   "cell_type": "code",
   "execution_count": 29,
   "id": "343bcc49",
   "metadata": {},
   "outputs": [],
   "source": [
    "def numerical_univariate_analysis(numerical_data):\n",
    "    for col_name in numerical_data:\n",
    "        print(\"*\"*10, col_name, \"*\"*10)\n",
    "        print(numerical_data[col_name].agg([\"min\",\"max\",\"mean\",\"median\",\"count\",\"std\",\"skew\"]))\n",
    "        print()"
   ]
  },
  {
   "cell_type": "code",
   "execution_count": 30,
   "id": "d9138ff5",
   "metadata": {},
   "outputs": [
    {
     "name": "stdout",
     "output_type": "stream",
     "text": [
      "********** estimated unemployment rate (%) **********\n",
      "min          0.000000\n",
      "max         76.740000\n",
      "mean        11.906991\n",
      "median       8.890000\n",
      "count     1007.000000\n",
      "std         10.739549\n",
      "skew         2.215631\n",
      "Name: estimated unemployment rate (%), dtype: float64\n",
      "\n",
      "********** estimated employed **********\n",
      "min       4.942000e+04\n",
      "max       5.943376e+07\n",
      "mean      8.996209e+06\n",
      "median    5.543380e+06\n",
      "count     1.007000e+03\n",
      "std       1.020784e+07\n",
      "skew      1.998273e+00\n",
      "Name: estimated employed, dtype: float64\n",
      "\n",
      "********** estimated labour participation rate (%) **********\n",
      "min         13.330000\n",
      "max         72.570000\n",
      "mean        42.378620\n",
      "median      40.880000\n",
      "count     1007.000000\n",
      "std          8.048542\n",
      "skew         1.016958\n",
      "Name: estimated labour participation rate (%), dtype: float64\n",
      "\n",
      "********** longitude **********\n",
      "min        10.850500\n",
      "max        33.778200\n",
      "mean       22.826048\n",
      "median     23.610200\n",
      "count     267.000000\n",
      "std         6.270731\n",
      "skew       -0.382344\n",
      "Name: longitude, dtype: float64\n",
      "\n",
      "********** latitude **********\n",
      "min        71.192400\n",
      "max        92.937600\n",
      "mean       80.532425\n",
      "median     79.019300\n",
      "count     267.000000\n",
      "std         5.831738\n",
      "skew        0.722542\n",
      "Name: latitude, dtype: float64\n",
      "\n",
      "********** unemployment **********\n",
      "min          0.000000\n",
      "max        240.000000\n",
      "mean        29.372284\n",
      "median      21.332069\n",
      "count     1007.000000\n",
      "std         28.632522\n",
      "skew         2.722032\n",
      "Name: unemployment, dtype: float64\n",
      "\n"
     ]
    }
   ],
   "source": [
    "numerical_df = df.select_dtypes(include=[\"float64\",\"int64\"])\n",
    "numerical_univariate_analysis(numerical_df)"
   ]
  },
  {
   "cell_type": "code",
   "execution_count": 31,
   "id": "56b32d20",
   "metadata": {},
   "outputs": [],
   "source": [
    "unemployment_state = df.groupby(\"region\")[\"unemployment\"].mean().sort_values(ascending=False)"
   ]
  },
  {
   "cell_type": "code",
   "execution_count": 32,
   "id": "3512d5f8",
   "metadata": {},
   "outputs": [
    {
     "name": "stdout",
     "output_type": "stream",
     "text": [
      "region\n",
      "Haryana             62.920251\n",
      "Bihar               50.519183\n",
      "Jharkhand           50.111938\n",
      "Delhi               47.442728\n",
      "Tripura             45.374517\n",
      "Jammu & Kashmir     40.559708\n",
      "Chandigarh          40.291544\n",
      "Himachal Pradesh    39.836917\n",
      "Rajasthan           36.848527\n",
      "Puducherry          33.633724\n",
      "Tamil Nadu          32.200083\n",
      "Kerala              32.027223\n",
      "Uttar Pradesh       30.124629\n",
      "Punjab              29.395505\n",
      "Goa                 25.265980\n",
      "Uttarakhand         23.222464\n",
      "Chhattisgarh        22.289849\n",
      "Andhra Pradesh      21.683918\n",
      "West Bengal         19.646170\n",
      "Maharashtra         19.633460\n",
      "Madhya Pradesh      19.172526\n",
      "Odisha              17.522107\n",
      "Sikkim              16.983050\n",
      "Karnataka           16.230732\n",
      "Gujarat             15.581904\n",
      "Telangana           15.028215\n",
      "Assam               13.805033\n",
      "Meghalaya            8.932964\n",
      "Name: unemployment, dtype: float64\n",
      "Axes(0.125,0.11;0.775x0.77)\n"
     ]
    },
    {
     "data": {
      "image/png": "[encoded data removed]",
      "text/plain": [
       "<Figure size 640x480 with 1 Axes>"
      ]
     },
     "metadata": {},
     "output_type": "display_data"
    }
   ],
   "source": [
    "print(unemployment_state)\n",
    "print(unemployment_state.plot(kind=\"bar\"))"
   ]
  },
  {
   "cell_type": "code",
   "execution_count": 33,
   "id": "1c04290a",
   "metadata": {},
   "outputs": [],
   "source": [
    "est_unemployment_state = df.groupby(\"region\")[\"estimated unemployment rate (%)\"].mean().sort_values(ascending=False)"
   ]
  },
  {
   "cell_type": "code",
   "execution_count": 34,
   "id": "08502ff0",
   "metadata": {},
   "outputs": [
    {
     "name": "stdout",
     "output_type": "stream",
     "text": [
      "region\n",
      "Tripura             27.483158\n",
      "Haryana             26.597368\n",
      "Jharkhand           20.309737\n",
      "Bihar               19.063684\n",
      "Himachal Pradesh    17.888947\n",
      "Delhi               17.000263\n",
      "Jammu & Kashmir     16.275333\n",
      "Chandigarh          15.991667\n",
      "Rajasthan           14.534474\n",
      "Puducherry          12.361389\n",
      "Punjab              12.017895\n",
      "Uttar Pradesh       11.810789\n",
      "Goa                 10.125000\n",
      "Tamil Nadu          10.048158\n",
      "Kerala               9.942368\n",
      "Chhattisgarh         8.866316\n",
      "West Bengal          8.668684\n",
      "Sikkim               8.063200\n",
      "Uttarakhand          7.818919\n",
      "Andhra Pradesh       7.789474\n",
      "Maharashtra          7.668421\n",
      "Telangana            7.499737\n",
      "Madhya Pradesh       7.261053\n",
      "Karnataka            6.937105\n",
      "Gujarat              6.588158\n",
      "Assam                5.991389\n",
      "Odisha               5.869474\n",
      "Meghalaya            4.546757\n",
      "Name: estimated unemployment rate (%), dtype: float64\n",
      "Axes(0.125,0.11;0.775x0.77)\n"
     ]
    },
    {
     "data": {
      "image/png": "[encoded data removed]",
      "text/plain": [
       "<Figure size 640x480 with 1 Axes>"
      ]
     },
     "metadata": {},
     "output_type": "display_data"
    }
   ],
   "source": [
    "print(est_unemployment_state)\n",
    "print(est_unemployment_state.plot(kind=\"bar\"))"
   ]
  },
  {
   "cell_type": "markdown",
   "id": "e0bb5430",
   "metadata": {},
   "source": [
    "## Visual Analysis"
   ]
  },
  {
   "cell_type": "code",
   "execution_count": 35,
   "id": "a181eeb3",
   "metadata": {},
   "outputs": [
    {
     "data": {
      "text/plain": [
       "<Axes: xlabel='area', ylabel='unemployment'>"
      ]
     },
     "execution_count": 35,
     "metadata": {},
     "output_type": "execute_result"
    },
    {
     "data": {
      "image/png": "[encoded data removed]",
      "text/plain": [
       "<Figure size 640x480 with 1 Axes>"
      ]
     },
     "metadata": {},
     "output_type": "display_data"
    }
   ],
   "source": [
    "sns.boxplot(data=df,x=\"area\",y=\"unemployment\")"
   ]
  },
  {
   "cell_type": "code",
   "execution_count": 36,
   "id": "d70deb99",
   "metadata": {},
   "outputs": [
    {
     "data": {
      "text/plain": [
       "Index(['region', 'date', 'frequency', 'estimated unemployment rate (%)',\n",
       "       'estimated employed', 'estimated labour participation rate (%)', 'area',\n",
       "       'region.1', 'longitude', 'latitude', 'unemployment'],\n",
       "      dtype='object')"
      ]
     },
     "execution_count": 36,
     "metadata": {},
     "output_type": "execute_result"
    }
   ],
   "source": [
    "df.columns"
   ]
  },
  {
   "cell_type": "code",
   "execution_count": 37,
   "id": "3a9b94dd",
   "metadata": {},
   "outputs": [
    {
     "name": "stdout",
     "output_type": "stream",
     "text": [
      "<class 'pandas.core.frame.DataFrame'>\n",
      "RangeIndex: 1007 entries, 0 to 1006\n",
      "Data columns (total 11 columns):\n",
      " #   Column                                   Non-Null Count  Dtype         \n",
      "---  ------                                   --------------  -----         \n",
      " 0   region                                   1007 non-null   object        \n",
      " 1   date                                     1007 non-null   datetime64[ns]\n",
      " 2   frequency                                1007 non-null   object        \n",
      " 3   estimated unemployment rate (%)          1007 non-null   float64       \n",
      " 4   estimated employed                       1007 non-null   float64       \n",
      " 5   estimated labour participation rate (%)  1007 non-null   float64       \n",
      " 6   area                                     740 non-null    object        \n",
      " 7   region.1                                 267 non-null    object        \n",
      " 8   longitude                                267 non-null    float64       \n",
      " 9   latitude                                 267 non-null    float64       \n",
      " 10  unemployment                             1007 non-null   float64       \n",
      "dtypes: datetime64[ns](1), float64(6), object(4)\n",
      "memory usage: 86.7+ KB\n"
     ]
    }
   ],
   "source": [
    "df.info()"
   ]
  },
  {
   "cell_type": "code",
   "execution_count": 41,
   "id": "60ef66b4",
   "metadata": {},
   "outputs": [
    {
     "data": {
      "text/plain": [
       "<Axes: xlabel='latitude', ylabel='unemployment'>"
      ]
     },
     "execution_count": 41,
     "metadata": {},
     "output_type": "execute_result"
    },
    {
     "data": {
      "image/png": "[encoded data removed]",
      "text/plain": [
       "<Figure size 640x480 with 1 Axes>"
      ]
     },
     "metadata": {},
     "output_type": "display_data"
    }
   ],
   "source": [
    "sns.scatterplot(data = df, x=\"latitude\",y=\"unemployment\")"
   ]
  },
  {
   "cell_type": "code",
   "execution_count": 42,
   "id": "9eb84fc7",
   "metadata": {},
   "outputs": [
    {
     "data": {
      "text/plain": [
       "<Axes: xlabel='longitude', ylabel='unemployment'>"
      ]
     },
     "execution_count": 42,
     "metadata": {},
     "output_type": "execute_result"
    },
    {
     "data": {
      "image/png": "[encoded data removed]",
      "text/plain": [
       "<Figure size 640x480 with 1 Axes>"
      ]
     },
     "metadata": {},
     "output_type": "display_data"
    }
   ],
   "source": [
    "sns.scatterplot(data = df, x=\"longitude\",y=\"unemployment\")"
   ]
  },
  {
   "cell_type": "code",
   "execution_count": 46,
   "id": "589b65b4",
   "metadata": {},
   "outputs": [
    {
     "data": {
      "text/plain": [
       "<Axes: xlabel='unemployment', ylabel='region'>"
      ]
     },
     "execution_count": 46,
     "metadata": {},
     "output_type": "execute_result"
    },
    {
     "data": {
      "image/png": "[encoded data removed]",
      "text/plain": [
       "<Figure size 640x480 with 1 Axes>"
      ]
     },
     "metadata": {},
     "output_type": "display_data"
    }
   ],
   "source": [
    "sns.boxplot(data=df,x=\"unemployment\",y=\"region\")"
   ]
  },
  {
   "cell_type": "code",
   "execution_count": null,
   "id": "a7ddf660",
   "metadata": {},
   "outputs": [],
   "source": []
  }
 ],
 "metadata": {
  "kernelspec": {
   "display_name": "Python 3 (ipykernel)",
   "language": "python",
   "name": "python3"
  },
  "language_info": {
   "codemirror_mode": {
    "name": "ipython",
    "version": 3
   },
   "file_extension": ".py",
   "mimetype": "text/x-python",
   "name": "python",
   "nbconvert_exporter": "python",
   "pygments_lexer": "ipython3",
   "version": "3.11.3"
  }
 },
 "nbformat": 4,
 "nbformat_minor": 5
}

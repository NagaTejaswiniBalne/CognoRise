{
 "cells": [
  {
   "cell_type": "markdown",
   "id": "1616b5fc",
   "metadata": {},
   "source": [
    "## TASK 2"
   ]
  },
  {
   "cell_type": "markdown",
   "id": "7b853d6f",
   "metadata": {},
   "source": [
    "## 80 CEREALS"
   ]
  },
  {
   "cell_type": "markdown",
   "id": "642e327c",
   "metadata": {},
   "source": [
    "## Importing Libraries"
   ]
  },
  {
   "cell_type": "code",
   "execution_count": 1,
   "id": "561334a9",
   "metadata": {},
   "outputs": [],
   "source": [
    "import numpy as np\n",
    "import pandas as pd\n",
    "import matplotlib.pyplot as plt\n",
    "import seaborn as sns"
   ]
  },
  {
   "cell_type": "markdown",
   "id": "4fe5ca19",
   "metadata": {},
   "source": [
    "## Loading the Dataset"
   ]
  },
  {
   "cell_type": "code",
   "execution_count": 2,
   "id": "9ddd1c3e",
   "metadata": {},
   "outputs": [],
   "source": [
    "cereals = pd.read_csv(r\"C:\\Users\\$hadow\\Downloads\\archive (1)\\cereal.csv\")"
   ]
  },
  {
   "cell_type": "markdown",
   "id": "06f61613",
   "metadata": {},
   "source": [
    "## Shape of dataset"
   ]
  },
  {
   "cell_type": "code",
   "execution_count": 3,
   "id": "a88a5093",
   "metadata": {},
   "outputs": [
    {
     "data": {
      "text/plain": [
       "(77, 16)"
      ]
     },
     "execution_count": 3,
     "metadata": {},
     "output_type": "execute_result"
    }
   ],
   "source": [
    "cereals.shape"
   ]
  },
  {
   "cell_type": "markdown",
   "id": "9312ae2e",
   "metadata": {},
   "source": [
    "## Dataset info"
   ]
  },
  {
   "cell_type": "code",
   "execution_count": 4,
   "id": "e6ffc2fe",
   "metadata": {},
   "outputs": [
    {
     "name": "stdout",
     "output_type": "stream",
     "text": [
      "<class 'pandas.core.frame.DataFrame'>\n",
      "RangeIndex: 77 entries, 0 to 76\n",
      "Data columns (total 16 columns):\n",
      " #   Column    Non-Null Count  Dtype  \n",
      "---  ------    --------------  -----  \n",
      " 0   name      77 non-null     object \n",
      " 1   mfr       77 non-null     object \n",
      " 2   type      77 non-null     object \n",
      " 3   calories  77 non-null     int64  \n",
      " 4   protein   77 non-null     int64  \n",
      " 5   fat       77 non-null     int64  \n",
      " 6   sodium    77 non-null     int64  \n",
      " 7   fiber     77 non-null     float64\n",
      " 8   carbo     77 non-null     float64\n",
      " 9   sugars    77 non-null     int64  \n",
      " 10  potass    77 non-null     int64  \n",
      " 11  vitamins  77 non-null     int64  \n",
      " 12  shelf     77 non-null     int64  \n",
      " 13  weight    77 non-null     float64\n",
      " 14  cups      77 non-null     float64\n",
      " 15  rating    77 non-null     float64\n",
      "dtypes: float64(5), int64(8), object(3)\n",
      "memory usage: 9.8+ KB\n"
     ]
    }
   ],
   "source": [
    "cereals.info()"
   ]
  },
  {
   "cell_type": "markdown",
   "id": "0f44d840",
   "metadata": {},
   "source": [
    "## Dataset"
   ]
  },
  {
   "cell_type": "code",
   "execution_count": 5,
   "id": "08efb425",
   "metadata": {},
   "outputs": [
    {
     "data": {
      "text/html": [
       "<div>\n",
       "<style scoped>\n",
       "    .dataframe tbody tr th:only-of-type {\n",
       "        vertical-align: middle;\n",
       "    }\n",
       "\n",
       "    .dataframe tbody tr th {\n",
       "        vertical-align: top;\n",
       "    }\n",
       "\n",
       "    .dataframe thead th {\n",
       "        text-align: right;\n",
       "    }\n",
       "</style>\n",
       "<table border=\"1\" class=\"dataframe\">\n",
       "  <thead>\n",
       "    <tr style=\"text-align: right;\">\n",
       "      <th></th>\n",
       "      <th>name</th>\n",
       "      <th>mfr</th>\n",
       "      <th>type</th>\n",
       "      <th>calories</th>\n",
       "      <th>protein</th>\n",
       "      <th>fat</th>\n",
       "      <th>sodium</th>\n",
       "      <th>fiber</th>\n",
       "      <th>carbo</th>\n",
       "      <th>sugars</th>\n",
       "      <th>potass</th>\n",
       "      <th>vitamins</th>\n",
       "      <th>shelf</th>\n",
       "      <th>weight</th>\n",
       "      <th>cups</th>\n",
       "      <th>rating</th>\n",
       "    </tr>\n",
       "  </thead>\n",
       "  <tbody>\n",
       "    <tr>\n",
       "      <th>0</th>\n",
       "      <td>100% Bran</td>\n",
       "      <td>N</td>\n",
       "      <td>C</td>\n",
       "      <td>70</td>\n",
       "      <td>4</td>\n",
       "      <td>1</td>\n",
       "      <td>130</td>\n",
       "      <td>10.0</td>\n",
       "      <td>5.0</td>\n",
       "      <td>6</td>\n",
       "      <td>280</td>\n",
       "      <td>25</td>\n",
       "      <td>3</td>\n",
       "      <td>1.0</td>\n",
       "      <td>0.33</td>\n",
       "      <td>68.402973</td>\n",
       "    </tr>\n",
       "    <tr>\n",
       "      <th>1</th>\n",
       "      <td>100% Natural Bran</td>\n",
       "      <td>Q</td>\n",
       "      <td>C</td>\n",
       "      <td>120</td>\n",
       "      <td>3</td>\n",
       "      <td>5</td>\n",
       "      <td>15</td>\n",
       "      <td>2.0</td>\n",
       "      <td>8.0</td>\n",
       "      <td>8</td>\n",
       "      <td>135</td>\n",
       "      <td>0</td>\n",
       "      <td>3</td>\n",
       "      <td>1.0</td>\n",
       "      <td>1.00</td>\n",
       "      <td>33.983679</td>\n",
       "    </tr>\n",
       "    <tr>\n",
       "      <th>2</th>\n",
       "      <td>All-Bran</td>\n",
       "      <td>K</td>\n",
       "      <td>C</td>\n",
       "      <td>70</td>\n",
       "      <td>4</td>\n",
       "      <td>1</td>\n",
       "      <td>260</td>\n",
       "      <td>9.0</td>\n",
       "      <td>7.0</td>\n",
       "      <td>5</td>\n",
       "      <td>320</td>\n",
       "      <td>25</td>\n",
       "      <td>3</td>\n",
       "      <td>1.0</td>\n",
       "      <td>0.33</td>\n",
       "      <td>59.425505</td>\n",
       "    </tr>\n",
       "    <tr>\n",
       "      <th>3</th>\n",
       "      <td>All-Bran with Extra Fiber</td>\n",
       "      <td>K</td>\n",
       "      <td>C</td>\n",
       "      <td>50</td>\n",
       "      <td>4</td>\n",
       "      <td>0</td>\n",
       "      <td>140</td>\n",
       "      <td>14.0</td>\n",
       "      <td>8.0</td>\n",
       "      <td>0</td>\n",
       "      <td>330</td>\n",
       "      <td>25</td>\n",
       "      <td>3</td>\n",
       "      <td>1.0</td>\n",
       "      <td>0.50</td>\n",
       "      <td>93.704912</td>\n",
       "    </tr>\n",
       "    <tr>\n",
       "      <th>4</th>\n",
       "      <td>Almond Delight</td>\n",
       "      <td>R</td>\n",
       "      <td>C</td>\n",
       "      <td>110</td>\n",
       "      <td>2</td>\n",
       "      <td>2</td>\n",
       "      <td>200</td>\n",
       "      <td>1.0</td>\n",
       "      <td>14.0</td>\n",
       "      <td>8</td>\n",
       "      <td>-1</td>\n",
       "      <td>25</td>\n",
       "      <td>3</td>\n",
       "      <td>1.0</td>\n",
       "      <td>0.75</td>\n",
       "      <td>34.384843</td>\n",
       "    </tr>\n",
       "  </tbody>\n",
       "</table>\n",
       "</div>"
      ],
      "text/plain": [
       "                        name mfr type  calories  protein  fat  sodium  fiber  \\\n",
       "0                  100% Bran   N    C        70        4    1     130   10.0   \n",
       "1          100% Natural Bran   Q    C       120        3    5      15    2.0   \n",
       "2                   All-Bran   K    C        70        4    1     260    9.0   \n",
       "3  All-Bran with Extra Fiber   K    C        50        4    0     140   14.0   \n",
       "4             Almond Delight   R    C       110        2    2     200    1.0   \n",
       "\n",
       "   carbo  sugars  potass  vitamins  shelf  weight  cups     rating  \n",
       "0    5.0       6     280        25      3     1.0  0.33  68.402973  \n",
       "1    8.0       8     135         0      3     1.0  1.00  33.983679  \n",
       "2    7.0       5     320        25      3     1.0  0.33  59.425505  \n",
       "3    8.0       0     330        25      3     1.0  0.50  93.704912  \n",
       "4   14.0       8      -1        25      3     1.0  0.75  34.384843  "
      ]
     },
     "execution_count": 5,
     "metadata": {},
     "output_type": "execute_result"
    }
   ],
   "source": [
    "cereals.head()"
   ]
  },
  {
   "cell_type": "code",
   "execution_count": 9,
   "id": "6f15833c",
   "metadata": {},
   "outputs": [],
   "source": [
    "cereals[\"mfr\"] = cereals[\"mfr\"].replace({\"A\":\"American Home food products\",\"G\":\"Genersl Mills\",\"K\":\"Kelloggs\",\"N\":\"Nabisco\",\"P\":\"post\",\"Q\":\"Quaker Oats\",\"R\":\"Ralston Purina\"})\n",
    "cereals[\"type\"] = cereals[\"type\"].replace({\"C\":\"Cold\",\"H\":\"Hot\"})"
   ]
  },
  {
   "cell_type": "code",
   "execution_count": 10,
   "id": "7d659a39",
   "metadata": {},
   "outputs": [
    {
     "data": {
      "text/html": [
       "<div>\n",
       "<style scoped>\n",
       "    .dataframe tbody tr th:only-of-type {\n",
       "        vertical-align: middle;\n",
       "    }\n",
       "\n",
       "    .dataframe tbody tr th {\n",
       "        vertical-align: top;\n",
       "    }\n",
       "\n",
       "    .dataframe thead th {\n",
       "        text-align: right;\n",
       "    }\n",
       "</style>\n",
       "<table border=\"1\" class=\"dataframe\">\n",
       "  <thead>\n",
       "    <tr style=\"text-align: right;\">\n",
       "      <th></th>\n",
       "      <th>name</th>\n",
       "      <th>mfr</th>\n",
       "      <th>type</th>\n",
       "      <th>calories</th>\n",
       "      <th>protein</th>\n",
       "      <th>fat</th>\n",
       "      <th>sodium</th>\n",
       "      <th>fiber</th>\n",
       "      <th>carbo</th>\n",
       "      <th>sugars</th>\n",
       "      <th>potass</th>\n",
       "      <th>vitamins</th>\n",
       "      <th>shelf</th>\n",
       "      <th>weight</th>\n",
       "      <th>cups</th>\n",
       "      <th>rating</th>\n",
       "    </tr>\n",
       "  </thead>\n",
       "  <tbody>\n",
       "    <tr>\n",
       "      <th>0</th>\n",
       "      <td>100% Bran</td>\n",
       "      <td>Nabisco</td>\n",
       "      <td>Cold</td>\n",
       "      <td>70</td>\n",
       "      <td>4</td>\n",
       "      <td>1</td>\n",
       "      <td>130</td>\n",
       "      <td>10.0</td>\n",
       "      <td>5.0</td>\n",
       "      <td>6</td>\n",
       "      <td>280</td>\n",
       "      <td>25</td>\n",
       "      <td>3</td>\n",
       "      <td>1.0</td>\n",
       "      <td>0.33</td>\n",
       "      <td>68.402973</td>\n",
       "    </tr>\n",
       "    <tr>\n",
       "      <th>1</th>\n",
       "      <td>100% Natural Bran</td>\n",
       "      <td>Quaker Oats</td>\n",
       "      <td>Cold</td>\n",
       "      <td>120</td>\n",
       "      <td>3</td>\n",
       "      <td>5</td>\n",
       "      <td>15</td>\n",
       "      <td>2.0</td>\n",
       "      <td>8.0</td>\n",
       "      <td>8</td>\n",
       "      <td>135</td>\n",
       "      <td>0</td>\n",
       "      <td>3</td>\n",
       "      <td>1.0</td>\n",
       "      <td>1.00</td>\n",
       "      <td>33.983679</td>\n",
       "    </tr>\n",
       "    <tr>\n",
       "      <th>2</th>\n",
       "      <td>All-Bran</td>\n",
       "      <td>Kelloggs</td>\n",
       "      <td>Cold</td>\n",
       "      <td>70</td>\n",
       "      <td>4</td>\n",
       "      <td>1</td>\n",
       "      <td>260</td>\n",
       "      <td>9.0</td>\n",
       "      <td>7.0</td>\n",
       "      <td>5</td>\n",
       "      <td>320</td>\n",
       "      <td>25</td>\n",
       "      <td>3</td>\n",
       "      <td>1.0</td>\n",
       "      <td>0.33</td>\n",
       "      <td>59.425505</td>\n",
       "    </tr>\n",
       "    <tr>\n",
       "      <th>3</th>\n",
       "      <td>All-Bran with Extra Fiber</td>\n",
       "      <td>Kelloggs</td>\n",
       "      <td>Cold</td>\n",
       "      <td>50</td>\n",
       "      <td>4</td>\n",
       "      <td>0</td>\n",
       "      <td>140</td>\n",
       "      <td>14.0</td>\n",
       "      <td>8.0</td>\n",
       "      <td>0</td>\n",
       "      <td>330</td>\n",
       "      <td>25</td>\n",
       "      <td>3</td>\n",
       "      <td>1.0</td>\n",
       "      <td>0.50</td>\n",
       "      <td>93.704912</td>\n",
       "    </tr>\n",
       "    <tr>\n",
       "      <th>4</th>\n",
       "      <td>Almond Delight</td>\n",
       "      <td>Ralston Purina</td>\n",
       "      <td>Cold</td>\n",
       "      <td>110</td>\n",
       "      <td>2</td>\n",
       "      <td>2</td>\n",
       "      <td>200</td>\n",
       "      <td>1.0</td>\n",
       "      <td>14.0</td>\n",
       "      <td>8</td>\n",
       "      <td>-1</td>\n",
       "      <td>25</td>\n",
       "      <td>3</td>\n",
       "      <td>1.0</td>\n",
       "      <td>0.75</td>\n",
       "      <td>34.384843</td>\n",
       "    </tr>\n",
       "  </tbody>\n",
       "</table>\n",
       "</div>"
      ],
      "text/plain": [
       "                        name             mfr  type  calories  protein  fat  \\\n",
       "0                  100% Bran         Nabisco  Cold        70        4    1   \n",
       "1          100% Natural Bran     Quaker Oats  Cold       120        3    5   \n",
       "2                   All-Bran        Kelloggs  Cold        70        4    1   \n",
       "3  All-Bran with Extra Fiber        Kelloggs  Cold        50        4    0   \n",
       "4             Almond Delight  Ralston Purina  Cold       110        2    2   \n",
       "\n",
       "   sodium  fiber  carbo  sugars  potass  vitamins  shelf  weight  cups  \\\n",
       "0     130   10.0    5.0       6     280        25      3     1.0  0.33   \n",
       "1      15    2.0    8.0       8     135         0      3     1.0  1.00   \n",
       "2     260    9.0    7.0       5     320        25      3     1.0  0.33   \n",
       "3     140   14.0    8.0       0     330        25      3     1.0  0.50   \n",
       "4     200    1.0   14.0       8      -1        25      3     1.0  0.75   \n",
       "\n",
       "      rating  \n",
       "0  68.402973  \n",
       "1  33.983679  \n",
       "2  59.425505  \n",
       "3  93.704912  \n",
       "4  34.384843  "
      ]
     },
     "execution_count": 10,
     "metadata": {},
     "output_type": "execute_result"
    }
   ],
   "source": [
    "cereals.head()"
   ]
  },
  {
   "cell_type": "markdown",
   "id": "b6557087",
   "metadata": {},
   "source": [
    "## Changing datatype of columns"
   ]
  },
  {
   "cell_type": "code",
   "execution_count": 12,
   "id": "8a7c2a74",
   "metadata": {},
   "outputs": [],
   "source": [
    "cereals[\"protein\"] = cereals[\"protein\"].astype(object)\n",
    "cereals[\"fat\"] = cereals[\"fat\"].astype(object)\n",
    "cereals[\"vitamins\"] = cereals[\"vitamins\"].astype(object)\n",
    "cereals[\"shelf\"] = cereals[\"shelf\"].astype(object)"
   ]
  },
  {
   "cell_type": "markdown",
   "id": "c7b8e77e",
   "metadata": {},
   "source": [
    "## Discrete univariate analysis"
   ]
  },
  {
   "cell_type": "code",
   "execution_count": 13,
   "id": "cafa6e54",
   "metadata": {},
   "outputs": [],
   "source": [
    "def discrete_univariate_analysis(discrete_data):\n",
    "    for col_name in discrete_data:\n",
    "        print(\"*\"*10, col_name, \"*\"*10)\n",
    "        print(discrete_data[col_name].agg([\"count\",\"nunique\",\"unique\"]))\n",
    "        print(\"Value Counts: \\n\", discrete_data[col_name].value_counts())\n",
    "        print()"
   ]
  },
  {
   "cell_type": "code",
   "execution_count": 14,
   "id": "b9abb88a",
   "metadata": {},
   "outputs": [
    {
     "name": "stdout",
     "output_type": "stream",
     "text": [
      "********** name **********\n",
      "count                                                     77\n",
      "nunique                                                   77\n",
      "unique     [100% Bran, 100% Natural Bran, All-Bran, All-B...\n",
      "Name: name, dtype: object\n",
      "Value Counts: \n",
      " name\n",
      "100% Bran                    1\n",
      "Nutri-Grain Almond-Raisin    1\n",
      "Quaker Oat Squares           1\n",
      "Puffed Wheat                 1\n",
      "Puffed Rice                  1\n",
      "                            ..\n",
      "Frosted Flakes               1\n",
      "Froot Loops                  1\n",
      "Double Chex                  1\n",
      "Crispy Wheat & Raisins       1\n",
      "Wheaties Honey Gold          1\n",
      "Name: count, Length: 77, dtype: int64\n",
      "\n",
      "********** mfr **********\n",
      "count                                                     77\n",
      "nunique                                                    7\n",
      "unique     [Nabisco, Quaker Oats, Kelloggs, Ralston Purin...\n",
      "Name: mfr, dtype: object\n",
      "Value Counts: \n",
      " mfr\n",
      "Kelloggs                       23\n",
      "Genersl Mills                  22\n",
      "post                            9\n",
      "Quaker Oats                     8\n",
      "Ralston Purina                  8\n",
      "Nabisco                         6\n",
      "American Home food products     1\n",
      "Name: count, dtype: int64\n",
      "\n",
      "********** type **********\n",
      "count               77\n",
      "nunique              2\n",
      "unique     [Cold, Hot]\n",
      "Name: type, dtype: object\n",
      "Value Counts: \n",
      " type\n",
      "Cold    74\n",
      "Hot      3\n",
      "Name: count, dtype: int64\n",
      "\n",
      "********** protein **********\n",
      "count                      77\n",
      "nunique                     6\n",
      "unique     [4, 3, 2, 1, 6, 5]\n",
      "Name: protein, dtype: object\n",
      "Value Counts: \n",
      " protein\n",
      "3    28\n",
      "2    25\n",
      "1    13\n",
      "4     8\n",
      "6     2\n",
      "5     1\n",
      "Name: count, dtype: int64\n",
      "\n",
      "********** fat **********\n",
      "count                   77\n",
      "nunique                  5\n",
      "unique     [1, 5, 0, 2, 3]\n",
      "Name: fat, dtype: object\n",
      "Value Counts: \n",
      " fat\n",
      "1    30\n",
      "0    27\n",
      "2    14\n",
      "3     5\n",
      "5     1\n",
      "Name: count, dtype: int64\n",
      "\n",
      "********** vitamins **********\n",
      "count                77\n",
      "nunique               3\n",
      "unique     [25, 0, 100]\n",
      "Name: vitamins, dtype: object\n",
      "Value Counts: \n",
      " vitamins\n",
      "25     63\n",
      "0       8\n",
      "100     6\n",
      "Name: count, dtype: int64\n",
      "\n",
      "********** shelf **********\n",
      "count             77\n",
      "nunique            3\n",
      "unique     [3, 1, 2]\n",
      "Name: shelf, dtype: object\n",
      "Value Counts: \n",
      " shelf\n",
      "3    36\n",
      "2    21\n",
      "1    20\n",
      "Name: count, dtype: int64\n",
      "\n"
     ]
    }
   ],
   "source": [
    "discrete_df = cereals.select_dtypes(include=[\"object\"])\n",
    "discrete_univariate_analysis(discrete_df)"
   ]
  },
  {
   "cell_type": "markdown",
   "id": "12fe95c5",
   "metadata": {},
   "source": [
    "## Numerical univariate analysis"
   ]
  },
  {
   "cell_type": "code",
   "execution_count": 15,
   "id": "6cab393e",
   "metadata": {},
   "outputs": [],
   "source": [
    "def numerical_univariate_analysis(numerical_data):\n",
    "    for col_name in numerical_data:\n",
    "        print(\"*\"*10, col_name, \"*\"*10)\n",
    "        print(numerical_data[col_name].agg([\"min\",\"max\",\"mean\",\"median\",\"count\",\"std\",\"skew\"]))\n",
    "        print()"
   ]
  },
  {
   "cell_type": "code",
   "execution_count": 16,
   "id": "d38fdc66",
   "metadata": {},
   "outputs": [
    {
     "name": "stdout",
     "output_type": "stream",
     "text": [
      "********** calories **********\n",
      "min        50.000000\n",
      "max       160.000000\n",
      "mean      106.883117\n",
      "median    110.000000\n",
      "count      77.000000\n",
      "std        19.484119\n",
      "skew       -0.445407\n",
      "Name: calories, dtype: float64\n",
      "\n",
      "********** sodium **********\n",
      "min         0.000000\n",
      "max       320.000000\n",
      "mean      159.675325\n",
      "median    180.000000\n",
      "count      77.000000\n",
      "std        83.832295\n",
      "skew       -0.575711\n",
      "Name: sodium, dtype: float64\n",
      "\n",
      "********** fiber **********\n",
      "min        0.000000\n",
      "max       14.000000\n",
      "mean       2.151948\n",
      "median     2.000000\n",
      "count     77.000000\n",
      "std        2.383364\n",
      "skew       2.431675\n",
      "Name: fiber, dtype: float64\n",
      "\n",
      "********** carbo **********\n",
      "min       -1.000000\n",
      "max       23.000000\n",
      "mean      14.597403\n",
      "median    14.000000\n",
      "count     77.000000\n",
      "std        4.278956\n",
      "skew      -0.447929\n",
      "Name: carbo, dtype: float64\n",
      "\n",
      "********** sugars **********\n",
      "min       -1.000000\n",
      "max       15.000000\n",
      "mean       6.922078\n",
      "median     7.000000\n",
      "count     77.000000\n",
      "std        4.444885\n",
      "skew       0.034618\n",
      "Name: sugars, dtype: float64\n",
      "\n",
      "********** potass **********\n",
      "min        -1.000000\n",
      "max       330.000000\n",
      "mean       96.077922\n",
      "median     90.000000\n",
      "count      77.000000\n",
      "std        71.286813\n",
      "skew        1.350971\n",
      "Name: potass, dtype: float64\n",
      "\n",
      "********** weight **********\n",
      "min        0.500000\n",
      "max        1.500000\n",
      "mean       1.029610\n",
      "median     1.000000\n",
      "count     77.000000\n",
      "std        0.150477\n",
      "skew       0.309857\n",
      "Name: weight, dtype: float64\n",
      "\n",
      "********** cups **********\n",
      "min        0.250000\n",
      "max        1.500000\n",
      "mean       0.821039\n",
      "median     0.750000\n",
      "count     77.000000\n",
      "std        0.232716\n",
      "skew      -0.104981\n",
      "Name: cups, dtype: float64\n",
      "\n",
      "********** rating **********\n",
      "min       18.042851\n",
      "max       93.704912\n",
      "mean      42.665705\n",
      "median    40.400208\n",
      "count     77.000000\n",
      "std       14.047289\n",
      "skew       0.910240\n",
      "Name: rating, dtype: float64\n",
      "\n"
     ]
    }
   ],
   "source": [
    "numerical_df = cereals.select_dtypes(include=[\"float64\",\"int64\"])\n",
    "numerical_univariate_analysis(numerical_df)"
   ]
  },
  {
   "cell_type": "markdown",
   "id": "c46827c4",
   "metadata": {},
   "source": [
    "## Visual Analysis"
   ]
  },
  {
   "cell_type": "code",
   "execution_count": 18,
   "id": "c697fdc7",
   "metadata": {},
   "outputs": [
    {
     "data": {
      "text/plain": [
       "<Axes: xlabel='type', ylabel='count'>"
      ]
     },
     "execution_count": 18,
     "metadata": {},
     "output_type": "execute_result"
    },
    {
     "data": {
      "image/png": "[encoded data removed]",
      "text/plain": [
       "<Figure size 640x480 with 1 Axes>"
      ]
     },
     "metadata": {},
     "output_type": "display_data"
    }
   ],
   "source": [
    "sns.countplot(data=cereals,x=\"type\")"
   ]
  },
  {
   "cell_type": "code",
   "execution_count": 21,
   "id": "9c2aed3d",
   "metadata": {},
   "outputs": [
    {
     "data": {
      "text/plain": [
       "<Axes: xlabel='mfr', ylabel='count'>"
      ]
     },
     "execution_count": 21,
     "metadata": {},
     "output_type": "execute_result"
    },
    {
     "data": {
      "image/png": "[encoded data removed]",
      "text/plain": [
       "<Figure size 1300x300 with 1 Axes>"
      ]
     },
     "metadata": {},
     "output_type": "display_data"
    }
   ],
   "source": [
    "fig,axs = plt.subplots(figsize=(13,3),layout = \"constrained\")\n",
    "sns.countplot(data=cereals,x=\"mfr\",ax=axs)"
   ]
  },
  {
   "cell_type": "code",
   "execution_count": 24,
   "id": "5ceddc06",
   "metadata": {},
   "outputs": [
    {
     "data": {
      "text/plain": [
       "<Axes: xlabel='rating', ylabel='sodium'>"
      ]
     },
     "execution_count": 24,
     "metadata": {},
     "output_type": "execute_result"
    },
    {
     "data": {
      "image/png": "[encoded data removed]",
      "text/plain": [
       "<Figure size 640x480 with 1 Axes>"
      ]
     },
     "metadata": {},
     "output_type": "display_data"
    }
   ],
   "source": [
    "sns.scatterplot(data=cereals, x=\"rating\",y=\"sodium\",hue=\"type\")"
   ]
  },
  {
   "cell_type": "code",
   "execution_count": 25,
   "id": "07796b44",
   "metadata": {},
   "outputs": [
    {
     "data": {
      "text/plain": [
       "<Axes: xlabel='rating', ylabel='fiber'>"
      ]
     },
     "execution_count": 25,
     "metadata": {},
     "output_type": "execute_result"
    },
    {
     "data": {
      "image/png": "[encoded data removed]",
      "text/plain": [
       "<Figure size 640x480 with 1 Axes>"
      ]
     },
     "metadata": {},
     "output_type": "display_data"
    }
   ],
   "source": [
    "sns.scatterplot(data=cereals, x=\"rating\",y=\"fiber\",hue=\"type\")"
   ]
  },
  {
   "cell_type": "code",
   "execution_count": 26,
   "id": "260cc527",
   "metadata": {},
   "outputs": [
    {
     "data": {
      "text/plain": [
       "<Axes: xlabel='rating', ylabel='potass'>"
      ]
     },
     "execution_count": 26,
     "metadata": {},
     "output_type": "execute_result"
    },
    {
     "data": {
      "image/png": "[encoded data removed]",
      "text/plain": [
       "<Figure size 640x480 with 1 Axes>"
      ]
     },
     "metadata": {},
     "output_type": "display_data"
    }
   ],
   "source": [
    "sns.scatterplot(data=cereals, x=\"rating\",y=\"potass\",hue=\"type\")"
   ]
  },
  {
   "cell_type": "code",
   "execution_count": 27,
   "id": "e4ed91cc",
   "metadata": {},
   "outputs": [
    {
     "data": {
      "text/plain": [
       "<Axes: xlabel='protein', ylabel='fiber'>"
      ]
     },
     "execution_count": 27,
     "metadata": {},
     "output_type": "execute_result"
    },
    {
     "data": {
      "image/png": "[encoded data removed]",
      "text/plain": [
       "<Figure size 640x480 with 1 Axes>"
      ]
     },
     "metadata": {},
     "output_type": "display_data"
    }
   ],
   "source": [
    "sns.boxplot(data = cereals, x=\"protein\",y=\"fiber\")"
   ]
  },
  {
   "cell_type": "code",
   "execution_count": 29,
   "id": "4534014c",
   "metadata": {},
   "outputs": [
    {
     "data": {
      "text/plain": [
       "<Axes: xlabel='protein', ylabel='sugars'>"
      ]
     },
     "execution_count": 29,
     "metadata": {},
     "output_type": "execute_result"
    },
    {
     "data": {
      "image/png": "[encoded data removed]",
      "text/plain": [
       "<Figure size 640x480 with 1 Axes>"
      ]
     },
     "metadata": {},
     "output_type": "display_data"
    }
   ],
   "source": [
    "sns.boxplot(data = cereals, x=\"protein\",y=\"sugars\")"
   ]
  },
  {
   "cell_type": "code",
   "execution_count": null,
   "id": "1ef4f221",
   "metadata": {},
   "outputs": [],
   "source": []
  }
 ],
 "metadata": {
  "kernelspec": {
   "display_name": "Python 3 (ipykernel)",
   "language": "python",
   "name": "python3"
  },
  "language_info": {
   "codemirror_mode": {
    "name": "ipython",
    "version": 3
   },
   "file_extension": ".py",
   "mimetype": "text/x-python",
   "name": "python",
   "nbconvert_exporter": "python",
   "pygments_lexer": "ipython3",
   "version": "3.11.3"
  }
 },
 "nbformat": 4,
 "nbformat_minor": 5
}
